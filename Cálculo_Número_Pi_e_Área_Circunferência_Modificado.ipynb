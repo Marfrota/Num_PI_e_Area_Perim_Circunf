{
  "nbformat": 4,
  "nbformat_minor": 0,
  "metadata": {
    "colab": {
      "provenance": [],
      "authorship_tag": "ABX9TyP9iUcR8Dvoe8O9JlnWFnY/",
      "include_colab_link": true
    },
    "kernelspec": {
      "name": "python3",
      "display_name": "Python 3"
    },
    "language_info": {
      "name": "python"
    }
  },
  "cells": [
    {
      "cell_type": "markdown",
      "metadata": {
        "id": "view-in-github",
        "colab_type": "text"
      },
      "source": [
        "<a href=\"https://colab.research.google.com/github/Marfrota/Num_PI_e_Area_Perim_Circunf/blob/main/C%C3%A1lculo_N%C3%BAmero_Pi_e_%C3%81rea_Circunfer%C3%AAncia_Modificado.ipynb\" target=\"_parent\"><img src=\"https://colab.research.google.com/assets/colab-badge.svg\" alt=\"Open In Colab\"/></a>"
      ]
    },
    {
      "cell_type": "code",
      "execution_count": 1,
      "metadata": {
        "colab": {
          "base_uri": "https://localhost:8080/"
        },
        "id": "3Gy_WmZVYN5w",
        "outputId": "d0645ddf-94ff-4cd8-e516-b157f5b87ee6"
      },
      "outputs": [
        {
          "output_type": "stream",
          "name": "stdout",
          "text": [
            "3.141592653589793\n"
          ]
        }
      ],
      "source": [
        "# Cálculo Número PI - Python\n",
        "#Importar comando Math\n",
        "import math\n",
        "pi = math.pi\n",
        "print(pi)"
      ]
    },
    {
      "cell_type": "code",
      "source": [
        "# Cálculo área circunferência\n",
        "from sympy import *\n",
        "%matplotlib inline\n",
        "from sympy.plotting import *\n",
        "import math\n",
        "pi = math.pi\n",
        "raio_circun = int(input(\"digite o valor do raio da circunferência = > \"))\n",
        "area_circun = pi*raio_circun**2\n",
        "perimetro=2*pi*raio_circun\n",
        "print(\"Área Circunferência é de=\",area_circun)\n",
        "print(\"Perimetro é de=\",perimetro)\n",
        "\n"
      ],
      "metadata": {
        "colab": {
          "base_uri": "https://localhost:8080/"
        },
        "id": "MqoLxfTCZk_x",
        "outputId": "3b7dc166-db1c-4f83-c953-23f1a9a9a870"
      },
      "execution_count": 2,
      "outputs": [
        {
          "output_type": "stream",
          "name": "stdout",
          "text": [
            "digite o valor do raio da circunferência = > 1\n",
            "Área Circunferência é de= 3.141592653589793\n",
            "Perimetro é de= 6.283185307179586\n"
          ]
        }
      ]
    },
    {
      "cell_type": "code",
      "source": [
        "#fatorial - Cálculo"
      ],
      "metadata": {
        "id": "cp5ucmWYxXq_"
      },
      "execution_count": 3,
      "outputs": []
    },
    {
      "cell_type": "code",
      "source": [
        "numero = int(input(\"digite o valor do fatorial desejado = > \"))\n",
        "\n",
        "fatorial=1\n",
        "for i in range(2,numero + 1):\n",
        "   fatorial *=i\n",
        "print(fatorial)"
      ],
      "metadata": {
        "colab": {
          "base_uri": "https://localhost:8080/"
        },
        "id": "BRkJlPNUxf1b",
        "outputId": "569f01cb-6682-4199-9de7-1fd617235e23"
      },
      "execution_count": 4,
      "outputs": [
        {
          "output_type": "stream",
          "name": "stdout",
          "text": [
            "digite o valor do fatorial desejado = > 5\n",
            "120\n"
          ]
        }
      ]
    },
    {
      "cell_type": "code",
      "source": [],
      "metadata": {
        "id": "FI6gjafM2trz"
      },
      "execution_count": 4,
      "outputs": []
    },
    {
      "cell_type": "code",
      "source": [
        "#Função\n",
        "def fatorial(numero):\n",
        "  fatorial = 1\n",
        "  for i in range(2,numero +1):\n",
        "    fatorial *= i\n",
        "\n",
        "  return fatorial"
      ],
      "metadata": {
        "id": "ruU2iU4C0pby"
      },
      "execution_count": 5,
      "outputs": []
    },
    {
      "cell_type": "code",
      "source": [
        "fatorial(5)"
      ],
      "metadata": {
        "colab": {
          "base_uri": "https://localhost:8080/"
        },
        "id": "3WQ-Tmge1oEs",
        "outputId": "68e85e4e-862a-418b-8e30-a48b676b00be"
      },
      "execution_count": 6,
      "outputs": [
        {
          "output_type": "execute_result",
          "data": {
            "text/plain": [
              "120"
            ]
          },
          "metadata": {},
          "execution_count": 6
        }
      ]
    },
    {
      "cell_type": "code",
      "source": [
        "# Pacote Importações - Pyplot\n",
        "import matplotlib.pyplot as plt"
      ],
      "metadata": {
        "id": "RXSa1Vph3CQ1"
      },
      "execution_count": 12,
      "outputs": []
    },
    {
      "cell_type": "code",
      "source": [
        "#2 Alternativa\n",
        "import numpy as np\n",
        "numero1= int(input(\"digite o size para as amostras 1 = > \"))\n",
        "amostra_1 = np.random.normal(size=numero1)\n",
        "numero2 = int(input(\"digite o size para as amostras 2 = > \"))\n",
        "amostra_2 = np.random.normal(size=numero2)\n",
        "plt.hist(amostra_1)\n",
        "plt.hist(amostra_2)\n"
      ],
      "metadata": {
        "colab": {
          "base_uri": "https://localhost:8080/",
          "height": 578
        },
        "id": "XyHvab2F6PcK",
        "outputId": "43e360a7-e006-4947-9dbf-e60463e56d74"
      },
      "execution_count": 13,
      "outputs": [
        {
          "name": "stdout",
          "output_type": "stream",
          "text": [
            "digite o size para as amostras 1 = > 1000\n",
            "digite o size para as amostras 2 = > 10000\n"
          ]
        },
        {
          "output_type": "execute_result",
          "data": {
            "text/plain": [
              "(array([3.000e+00, 1.900e+01, 1.700e+02, 8.080e+02, 2.330e+03, 3.264e+03,\n",
              "        2.358e+03, 8.550e+02, 1.740e+02, 1.900e+01]),\n",
              " array([-4.51270694, -3.69405658, -2.87540622, -2.05675585, -1.23810549,\n",
              "        -0.41945513,  0.39919523,  1.21784559,  2.03649595,  2.85514631,\n",
              "         3.67379667]),\n",
              " <BarContainer object of 10 artists>)"
            ]
          },
          "metadata": {},
          "execution_count": 13
        },
        {
          "output_type": "display_data",
          "data": {
            "text/plain": [
              "<Figure size 640x480 with 1 Axes>"
            ],
            "image/png": "[encoded data removed]"
          },
          "metadata": {}
        }
      ]
    },
    {
      "cell_type": "code",
      "source": [
        "plt.hist(amostra_1);"
      ],
      "metadata": {
        "colab": {
          "base_uri": "https://localhost:8080/",
          "height": 430
        },
        "id": "0SXbPumC7Uj2",
        "outputId": "2a7bbd82-4152-4c6a-d623-7c27809e203e"
      },
      "execution_count": 9,
      "outputs": [
        {
          "output_type": "display_data",
          "data": {
            "text/plain": [
              "<Figure size 640x480 with 1 Axes>"
            ],
            "image/png": "[encoded data removed]"
          },
          "metadata": {}
        }
      ]
    },
    {
      "cell_type": "code",
      "source": [
        "plt.hist(amostra_2)\n"
      ],
      "metadata": {
        "colab": {
          "base_uri": "https://localhost:8080/",
          "height": 522
        },
        "id": "xrizwsFP6ZSG",
        "outputId": "86457421-9cc0-4c74-bac6-587214301826"
      },
      "execution_count": 10,
      "outputs": [
        {
          "output_type": "execute_result",
          "data": {
            "text/plain": [
              "(array([1., 0., 0., 0., 1., 0., 0., 0., 0., 1.]),\n",
              " array([0.00851679, 0.14170809, 0.27489939, 0.40809069, 0.54128199,\n",
              "        0.67447329, 0.80766459, 0.94085589, 1.07404719, 1.20723849,\n",
              "        1.3404298 ]),\n",
              " <BarContainer object of 10 artists>)"
            ]
          },
          "metadata": {},
          "execution_count": 10
        },
        {
          "output_type": "display_data",
          "data": {
            "text/plain": [
              "<Figure size 640x480 with 1 Axes>"
            ],
            "image/png": "[encoded data removed]"
          },
          "metadata": {}
        }
      ]
    },
    {
      "cell_type": "code",
      "source": [
        "plt.hist(amostra_1,bins=50,label=\"\");\n",
        "plt.hist(amostra_2,bins=50,label=\"\");# o ponto e virgula suprime o últomo objeto\n",
        "import matplotlib.pyplot as plt\n",
        "\n",
        "plt.legend()"
      ],
      "metadata": {
        "colab": {
          "base_uri": "https://localhost:8080/",
          "height": 467
        },
        "id": "cAruZwQJ74ui",
        "outputId": "9c6f8c48-1dbb-44a1-8b41-5dc858c87436"
      },
      "execution_count": 11,
      "outputs": [
        {
          "output_type": "stream",
          "name": "stderr",
          "text": [
            "WARNING:matplotlib.legend:No artists with labels found to put in legend.  Note that artists whose label start with an underscore are ignored when legend() is called with no argument.\n"
          ]
        },
        {
          "output_type": "execute_result",
          "data": {
            "text/plain": [
              "<matplotlib.legend.Legend at 0x7839c8b50940>"
            ]
          },
          "metadata": {},
          "execution_count": 11
        },
        {
          "output_type": "display_data",
          "data": {
            "text/plain": [
              "<Figure size 640x480 with 1 Axes>"
            ],
            "image/png": "[encoded data removed]"
          },
          "metadata": {}
        }
      ]
    },
    {
      "cell_type": "code",
      "source": [],
      "metadata": {
        "id": "twVgnMp0BGXd"
      },
      "execution_count": 11,
      "outputs": []
    }
  ]
}